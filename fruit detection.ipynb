{
  "nbformat": 4,
  "nbformat_minor": 0,
  "metadata": {
    "colab": {
      "provenance": [],
      "authorship_tag": "ABX9TyPJFhJzq9ZtPpwPzZtBo0Kb",
      "include_colab_link": true
    },
    "kernelspec": {
      "name": "python3",
      "display_name": "Python 3"
    },
    "language_info": {
      "name": "python"
    }
  },
  "cells": [
    {
      "cell_type": "markdown",
      "metadata": {
        "id": "view-in-github",
        "colab_type": "text"
      },
      "source": [
        "<a href=\"https://colab.research.google.com/github/AxmatovB/Suniy_intelekt/blob/main/fruit%20detection.ipynb\" target=\"_parent\"><img src=\"https://colab.research.google.com/assets/colab-badge.svg\" alt=\"Open In Colab\"/></a>"
      ]
    },
    {
      "cell_type": "code",
      "source": [
        "import tensorflow as tf\n",
        "from tensorflow.keras.applications import MobileNetV2\n",
        "from tensorflow.keras.applications.mobilenet_v2 import preprocess_input, decode_predictions\n",
        "from tensorflow.keras.preprocessing import image\n",
        "import numpy as np"
      ],
      "metadata": {
        "id": "P07q8mZFTNfw"
      },
      "execution_count": 4,
      "outputs": []
    },
    {
      "cell_type": "code",
      "source": [
        "model = MobileNetV2(weights='imagenet')\n",
        "\n",
        "def predict_fruit(image_path):\n",
        "    img = image.load_img(image_path, target_size=(224, 224))\n",
        "    img_array = image.img_to_array(img)\n",
        "    img_array = np.expand_dims(img_array, axis=0)\n",
        "    img_array = preprocess_input(img_array)\n",
        "\n",
        "    predictions = model.predict(img_array)\n",
        "    decoded_predictions = decode_predictions(predictions, top=3)[0]\n",
        "\n",
        "    for pred in decoded_predictions:\n",
        "        print(f\"Nomi: {pred[1]}, Ehtimol: {pred[2]:.2f}\")\n",
        "\n",
        "    # Olma, banan yoki apelsin ekanligini aniqlash jarayoni.\n",
        "    target_classes = ['apple', 'banana', 'orange']\n",
        "    for pred in decoded_predictions:\n",
        "        if pred[1].lower() in target_classes:\n",
        "            return f\"Bu rasmda: {pred[1].capitalize()} ({pred[2]*100:.2f}% ishonch bilan)\"\n",
        "\n",
        "    return \"none of the main fruits!\"\n",
        "\n",
        "# Bu mana test qisim.\n",
        "image_path = '/content/Без названия.jfif'\n",
        "result = predict_fruit(image_path)\n",
        "print(result)\n"
      ],
      "metadata": {
        "colab": {
          "base_uri": "https://localhost:8080/"
        },
        "id": "QvtQWkPDTpdK",
        "outputId": "3b619f68-9ec1-4383-8ca7-b3a07ec6569e"
      },
      "execution_count": 14,
      "outputs": [
        {
          "output_type": "stream",
          "name": "stdout",
          "text": [
            "\u001b[1m1/1\u001b[0m \u001b[32m━━━━━━━━━━━━━━━━━━━━\u001b[0m\u001b[37m\u001b[0m \u001b[1m1s\u001b[0m 1s/step\n",
            "Nomi: spaghetti_squash, Ehtimol: 0.31\n",
            "Nomi: butternut_squash, Ehtimol: 0.24\n",
            "Nomi: orange, Ehtimol: 0.09\n",
            "Bu rasmda: Orange (8.67% ishonch bilan)\n"
          ]
        }
      ]
    }
  ]
}